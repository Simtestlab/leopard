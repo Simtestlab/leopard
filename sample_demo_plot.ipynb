{
  "nbformat": 4,
  "nbformat_minor": 0,
  "metadata": {
    "colab": {
      "provenance": []
    },
    "kernelspec": {
      "name": "python3",
      "display_name": "Python 3"
    },
    "language_info": {
      "name": "python"
    }
  },
  "cells": [
    {
      "cell_type": "code",
      "source": [
        "pip install transformers matplotlib\n"
      ],
      "metadata": {
        "colab": {
          "base_uri": "https://localhost:8080/"
        },
        "id": "m3JpQg2xXKQI",
        "outputId": "8128ab06-4821-4c6a-fcc1-3db70bcafd79"
      },
      "execution_count": null,
      "outputs": [
        {
          "output_type": "stream",
          "name": "stdout",
          "text": [
            "Collecting transformers\n",
            "  Downloading transformers-4.33.0-py3-none-any.whl (7.6 MB)\n",
            "\u001b[2K     \u001b[90m━━━━━━━━━━━━━━━━━━━━━━━━━━━━━━━━━━━━━━━━\u001b[0m \u001b[32m7.6/7.6 MB\u001b[0m \u001b[31m26.7 MB/s\u001b[0m eta \u001b[36m0:00:00\u001b[0m\n",
            "\u001b[?25hRequirement already satisfied: matplotlib in /usr/local/lib/python3.10/dist-packages (3.7.1)\n",
            "Requirement already satisfied: filelock in /usr/local/lib/python3.10/dist-packages (from transformers) (3.12.2)\n",
            "Collecting huggingface-hub<1.0,>=0.15.1 (from transformers)\n",
            "  Downloading huggingface_hub-0.16.4-py3-none-any.whl (268 kB)\n",
            "\u001b[2K     \u001b[90m━━━━━━━━━━━━━━━━━━━━━━━━━━━━━━━━━━━━━━\u001b[0m \u001b[32m268.8/268.8 kB\u001b[0m \u001b[31m23.5 MB/s\u001b[0m eta \u001b[36m0:00:00\u001b[0m\n",
            "\u001b[?25hRequirement already satisfied: numpy>=1.17 in /usr/local/lib/python3.10/dist-packages (from transformers) (1.23.5)\n",
            "Requirement already satisfied: packaging>=20.0 in /usr/local/lib/python3.10/dist-packages (from transformers) (23.1)\n",
            "Requirement already satisfied: pyyaml>=5.1 in /usr/local/lib/python3.10/dist-packages (from transformers) (6.0.1)\n",
            "Requirement already satisfied: regex!=2019.12.17 in /usr/local/lib/python3.10/dist-packages (from transformers) (2023.6.3)\n",
            "Requirement already satisfied: requests in /usr/local/lib/python3.10/dist-packages (from transformers) (2.31.0)\n",
            "Collecting tokenizers!=0.11.3,<0.14,>=0.11.1 (from transformers)\n",
            "  Downloading tokenizers-0.13.3-cp310-cp310-manylinux_2_17_x86_64.manylinux2014_x86_64.whl (7.8 MB)\n",
            "\u001b[2K     \u001b[90m━━━━━━━━━━━━━━━━━━━━━━━━━━━━━━━━━━━━━━━━\u001b[0m \u001b[32m7.8/7.8 MB\u001b[0m \u001b[31m62.0 MB/s\u001b[0m eta \u001b[36m0:00:00\u001b[0m\n",
            "\u001b[?25hCollecting safetensors>=0.3.1 (from transformers)\n",
            "  Downloading safetensors-0.3.3-cp310-cp310-manylinux_2_17_x86_64.manylinux2014_x86_64.whl (1.3 MB)\n",
            "\u001b[2K     \u001b[90m━━━━━━━━━━━━━━━━━━━━━━━━━━━━━━━━━━━━━━━━\u001b[0m \u001b[32m1.3/1.3 MB\u001b[0m \u001b[31m56.1 MB/s\u001b[0m eta \u001b[36m0:00:00\u001b[0m\n",
            "\u001b[?25hRequirement already satisfied: tqdm>=4.27 in /usr/local/lib/python3.10/dist-packages (from transformers) (4.66.1)\n",
            "Requirement already satisfied: contourpy>=1.0.1 in /usr/local/lib/python3.10/dist-packages (from matplotlib) (1.1.0)\n",
            "Requirement already satisfied: cycler>=0.10 in /usr/local/lib/python3.10/dist-packages (from matplotlib) (0.11.0)\n",
            "Requirement already satisfied: fonttools>=4.22.0 in /usr/local/lib/python3.10/dist-packages (from matplotlib) (4.42.1)\n",
            "Requirement already satisfied: kiwisolver>=1.0.1 in /usr/local/lib/python3.10/dist-packages (from matplotlib) (1.4.4)\n",
            "Requirement already satisfied: pillow>=6.2.0 in /usr/local/lib/python3.10/dist-packages (from matplotlib) (9.4.0)\n",
            "Requirement already satisfied: pyparsing>=2.3.1 in /usr/local/lib/python3.10/dist-packages (from matplotlib) (3.1.1)\n",
            "Requirement already satisfied: python-dateutil>=2.7 in /usr/local/lib/python3.10/dist-packages (from matplotlib) (2.8.2)\n",
            "Requirement already satisfied: fsspec in /usr/local/lib/python3.10/dist-packages (from huggingface-hub<1.0,>=0.15.1->transformers) (2023.6.0)\n",
            "Requirement already satisfied: typing-extensions>=3.7.4.3 in /usr/local/lib/python3.10/dist-packages (from huggingface-hub<1.0,>=0.15.1->transformers) (4.7.1)\n",
            "Requirement already satisfied: six>=1.5 in /usr/local/lib/python3.10/dist-packages (from python-dateutil>=2.7->matplotlib) (1.16.0)\n",
            "Requirement already satisfied: charset-normalizer<4,>=2 in /usr/local/lib/python3.10/dist-packages (from requests->transformers) (3.2.0)\n",
            "Requirement already satisfied: idna<4,>=2.5 in /usr/local/lib/python3.10/dist-packages (from requests->transformers) (3.4)\n",
            "Requirement already satisfied: urllib3<3,>=1.21.1 in /usr/local/lib/python3.10/dist-packages (from requests->transformers) (2.0.4)\n",
            "Requirement already satisfied: certifi>=2017.4.17 in /usr/local/lib/python3.10/dist-packages (from requests->transformers) (2023.7.22)\n",
            "Installing collected packages: tokenizers, safetensors, huggingface-hub, transformers\n",
            "Successfully installed huggingface-hub-0.16.4 safetensors-0.3.3 tokenizers-0.13.3 transformers-4.33.0\n"
          ]
        }
      ]
    },
    {
      "cell_type": "code",
      "source": [
        "import matplotlib.pyplot as plt\n",
        "\n",
        "class Plotter:\n",
        "    def __init__(self):\n",
        "        self.fig, self.ax = plt.subplots()\n",
        "\n",
        "    def create_line_plot(self, x, y, title=\"Line Plot\", x_label=\"X-axis\", y_label=\"Y-axis\"):\n",
        "        self.ax.plot(x, y)\n",
        "        self.ax.set_title(title)\n",
        "        self.ax.set_xlabel(x_label)\n",
        "        self.ax.set_ylabel(y_label)\n",
        "        plt.show()\n",
        "\n",
        "    def create_bar_plot(self, x, y, title=\"Bar Plot\", x_label=\"X-axis\", y_label=\"Y-axis\"):\n",
        "        self.ax.bar(x, y)\n",
        "        self.ax.set_title(title)\n",
        "        self.ax.set_xlabel(x_label)\n",
        "        self.ax.set_ylabel(y_label)\n",
        "        plt.show()\n",
        "\n",
        "    def create_scatter_plot(self, x, y, title=\"Scatter Plot\", x_label=\"X-axis\", y_label=\"Y-axis\"):\n",
        "        self.ax.scatter(x, y)\n",
        "        self.ax.set_title(title)\n",
        "        self.ax.set_xlabel(x_label)\n",
        "        self.ax.set_ylabel(y_label)\n",
        "        plt.show()\n"
      ],
      "metadata": {
        "id": "C2X2H_tZXQ5q"
      },
      "execution_count": null,
      "outputs": []
    },
    {
      "cell_type": "code",
      "source": [
        "training_data = [\n",
        "    {\"input\": \"Create a line plot\", \"label\": \"create_line_plot\"},\n",
        "    {\"input\": \"Make a bar chart\", \"label\": \"create_bar_plot\"},\n",
        "    {\"input\": \"Generate a scatterplot\", \"label\": \"create_scatter_plot\"},\n",
        "    {\"input\": \"Create a scatterplot\", \"label\": \"create_scatter_plot\"},\n",
        "    {\"input\": \"Generate a scatter diagram\", \"label\": \"create_scatter_plot\"},\n",
        "    {\"input\": \"Make a plot with dots\", \"label\": \"create_scatter_plot\"},\n",
        "    {\"input\": \"Create a line graph\", \"label\": \"create_line_plot\"},\n",
        "    {\"input\": \"Plot a line with data\", \"label\": \"create_line_plot\"},\n",
        "    {\"input\": \"Make a line chart\", \"label\": \"create_line_plot\"},\n",
        "    {\"input\": \"Create a bar chart\", \"label\": \"create_bar_plot\"},\n",
        "    {\"input\": \"Generate a bar diagram\", \"label\": \"create_bar_plot\"},\n",
        "    {\"input\": \"Make a bar graph\", \"label\": \"create_bar_plot\"},\n",
        "\n",
        "]\n"
      ],
      "metadata": {
        "id": "9_FOxSsEXQ8v"
      },
      "execution_count": null,
      "outputs": []
    },
    {
      "cell_type": "code",
      "source": [
        "from transformers import BertTokenizer, BertForSequenceClassification, AdamW\n",
        "import torch\n",
        "from torch.utils.data import DataLoader, Dataset\n",
        "from sklearn.preprocessing import LabelEncoder\n",
        "\n",
        "# Define a custom dataset\n",
        "class CustomDataset(Dataset):\n",
        "    def __init__(self, texts, labels, tokenizer, max_length):\n",
        "        self.texts = texts\n",
        "        self.labels = labels\n",
        "        self.tokenizer = tokenizer\n",
        "        self.max_length = max_length\n",
        "\n",
        "    def __len__(self):\n",
        "        return len(self.texts)\n",
        "\n",
        "    def __getitem__(self, idx):\n",
        "        text = self.texts[idx]\n",
        "        label = self.labels[idx]\n",
        "        inputs = self.tokenizer(\n",
        "            text, add_special_tokens=True, max_length=self.max_length, padding=\"max_length\", truncation=True\n",
        "        )\n",
        "        return {\n",
        "            \"input_ids\": torch.tensor(inputs[\"input_ids\"], dtype=torch.long),\n",
        "            \"attention_mask\": torch.tensor(inputs[\"attention_mask\"], dtype=torch.long),\n",
        "            \"label\": label,\n",
        "        }\n",
        "\n",
        "# Tokenizer\n",
        "tokenizer = BertTokenizer.from_pretrained(\"bert-base-uncased\")\n",
        "\n",
        "# Encode labels\n",
        "label_encoder = LabelEncoder()\n",
        "training_labels = label_encoder.fit_transform([example[\"label\"] for example in training_data])\n",
        "\n",
        "# Create a DataLoader for training data\n",
        "max_length = 32  # Adjust as needed\n",
        "train_dataset = CustomDataset(\n",
        "    texts=[example[\"input\"] for example in training_data],\n",
        "    labels=training_labels,\n",
        "    tokenizer=tokenizer,\n",
        "    max_length=max_length,\n",
        ")\n",
        "train_loader = DataLoader(train_dataset, batch_size=2, shuffle=True)\n",
        "\n",
        "# Define and train the intent recognition model\n",
        "model = BertForSequenceClassification.from_pretrained(\"bert-base-uncased\", num_labels=len(label_encoder.classes_))\n",
        "optimizer = AdamW(model.parameters(), lr=1e-5)\n",
        "device = torch.device(\"cuda\" if torch.cuda.is_available() else \"cpu\")\n",
        "model.to(device)\n",
        "\n",
        "num_epochs = 5  # Adjust as needed\n",
        "\n",
        "for epoch in range(num_epochs):\n",
        "    for batch in train_loader:\n",
        "        inputs = {\n",
        "            \"input_ids\": batch[\"input_ids\"].to(device),\n",
        "            \"attention_mask\": batch[\"attention_mask\"].to(device),\n",
        "            \"labels\": batch[\"label\"].to(device),\n",
        "        }\n",
        "        outputs = model(**inputs)\n",
        "        loss = outputs.loss\n",
        "        loss.backward()\n",
        "        optimizer.step()\n",
        "        optimizer.zero_grad()\n",
        "\n",
        "# Save the trained model\n",
        "model.save_pretrained(\"intent_model\")\n",
        "tokenizer.save_pretrained(\"intent_model\")\n"
      ],
      "metadata": {
        "colab": {
          "base_uri": "https://localhost:8080/"
        },
        "id": "XvBccr60XRAX",
        "outputId": "b5930144-dc11-4a12-c3b7-3b032755b112"
      },
      "execution_count": null,
      "outputs": [
        {
          "output_type": "stream",
          "name": "stderr",
          "text": [
            "Some weights of BertForSequenceClassification were not initialized from the model checkpoint at bert-base-uncased and are newly initialized: ['classifier.weight', 'classifier.bias']\n",
            "You should probably TRAIN this model on a down-stream task to be able to use it for predictions and inference.\n",
            "/usr/local/lib/python3.10/dist-packages/transformers/optimization.py:411: FutureWarning: This implementation of AdamW is deprecated and will be removed in a future version. Use the PyTorch implementation torch.optim.AdamW instead, or set `no_deprecation_warning=True` to disable this warning\n",
            "  warnings.warn(\n"
          ]
        },
        {
          "output_type": "execute_result",
          "data": {
            "text/plain": [
              "('intent_model/tokenizer_config.json',\n",
              " 'intent_model/special_tokens_map.json',\n",
              " 'intent_model/vocab.txt',\n",
              " 'intent_model/added_tokens.json')"
            ]
          },
          "metadata": {},
          "execution_count": 23
        }
      ]
    },
    {
      "cell_type": "code",
      "source": [
        "from transformers import BertTokenizer, BertForSequenceClassification\n",
        "import torch\n",
        "\n",
        "# Load the trained intent recognition model\n",
        "model = BertForSequenceClassification.from_pretrained(\"intent_model\")\n",
        "tokenizer = BertTokenizer.from_pretrained(\"intent_model\")\n",
        "\n",
        "# User input\n",
        "user_input = \"Create a scatterplot using the values x_data = [1, 2, 3, 4, 5] y_data = [2, 4, 6, 8, 10]\"\n",
        "\n",
        "# Encode the user input\n",
        "inputs = tokenizer(user_input, return_tensors=\"pt\")\n",
        "\n",
        "# Perform intent recognition\n",
        "with torch.no_grad():\n",
        "    outputs = model(**inputs)\n",
        "    logits = outputs.logits\n",
        "    predicted_label = torch.argmax(logits, dim=1).item()\n",
        "\n",
        "# Decode the predicted label using the label encoder\n",
        "predicted_function = label_encoder.inverse_transform([predicted_label])[0]\n",
        "\n",
        "# Initialize the Plotter\n",
        "plotter = Plotter()\n",
        "\n",
        "# Process the user input and call the appropriate function\n",
        "if predicted_function == \"create_line_plot\":\n",
        "    plotter.create_line_plot(x_data, y_data)\n",
        "elif predicted_function == \"create_bar_plot\":\n",
        "    plotter.create_bar_plot(x_data, y_data)\n",
        "elif predicted_function == \"create_scatter_plot\":\n",
        "    plotter.create_scatter_plot(x_data, y_data)\n",
        "else:\n",
        "    print(\"Invalid or unrecognized user input\")\n"
      ],
      "metadata": {
        "colab": {
          "base_uri": "https://localhost:8080/",
          "height": 472
        },
        "id": "qtU-NFizXRBz",
        "outputId": "3735ff68-c303-43e4-e21d-d01b16aa4e26"
      },
      "execution_count": null,
      "outputs": [
        {
          "output_type": "display_data",
          "data": {
            "text/plain": [
              "<Figure size 640x480 with 1 Axes>"
            ],
            "image/png": "[encoded data removed]"
          },
          "metadata": {}
        }
      ]
    },
    {
      "cell_type": "code",
      "source": [],
      "metadata": {
        "id": "PyV_-JKLXRFX"
      },
      "execution_count": null,
      "outputs": []
    }
  ]
}